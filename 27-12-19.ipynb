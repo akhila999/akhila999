{
 "cells": [
  {
   "cell_type": "code",
   "execution_count": 49,
   "metadata": {},
   "outputs": [
    {
     "name": "stdout",
     "output_type": "stream",
     "text": [
      "['gitam', 12, 656, 465, 5767]\n",
      "[5767, 465, 656, 12, 'gitam']\n",
      "[656, 465, 5767]\n",
      "<class 'list'>\n"
     ]
    }
   ],
   "source": [
    "li=[\"gitam\",12,656,465,5767]\n",
    "print(li)\n",
    "print(li[-1::-1 ])\n",
    "print(li[2:])\n",
    "print(type(li))"
   ]
  },
  {
   "cell_type": "code",
   "execution_count": 2,
   "metadata": {},
   "outputs": [
    {
     "name": "stdout",
     "output_type": "stream",
     "text": [
      "['akhila', 12, 656, 465, 5767]\n"
     ]
    }
   ],
   "source": [
    "# update\n",
    "li[0]=\"akhila\"\n",
    "print(li)"
   ]
  },
  {
   "cell_type": "code",
   "execution_count": 3,
   "metadata": {},
   "outputs": [
    {
     "name": "stdout",
     "output_type": "stream",
     "text": [
      "['akhila', 12, 656, 5767]\n"
     ]
    }
   ],
   "source": [
    "# delete\n",
    "del li[3]\n",
    "print(li)"
   ]
  },
  {
   "cell_type": "code",
   "execution_count": 4,
   "metadata": {},
   "outputs": [
    {
     "name": "stdout",
     "output_type": "stream",
     "text": [
      "[12, 656, 5767]\n"
     ]
    }
   ],
   "source": [
    "del li[0]\n",
    "print(li)"
   ]
  },
  {
   "cell_type": "code",
   "execution_count": 8,
   "metadata": {},
   "outputs": [
    {
     "name": "stdout",
     "output_type": "stream",
     "text": [
      "5\n",
      "[1, 34, 76, 'a', 'akhila', 1, 34, 76, 'a', 'akhila']\n",
      "True\n",
      "False\n"
     ]
    }
   ],
   "source": [
    "li=[1,34,76,'a',\"akhila\"]\n",
    "print(len(li))\n",
    "print(li*2)\n",
    "print(1 in li)\n",
    "print(5 in li)"
   ]
  },
  {
   "cell_type": "markdown",
   "metadata": {},
   "source": [
    "# basic list functions"
   ]
  },
  {
   "cell_type": "code",
   "execution_count": 19,
   "metadata": {},
   "outputs": [
    {
     "name": "stdout",
     "output_type": "stream",
     "text": [
      "4\n",
      "1\n",
      "2.5\n",
      "10\n"
     ]
    }
   ],
   "source": [
    "li=[1,2,3,4]\n",
    "print(max(li))\n",
    "print(min(li))\n",
    "print(sum(li)/len(li))# average\n",
    "print(sum(li))\n"
   ]
  },
  {
   "cell_type": "code",
   "execution_count": 22,
   "metadata": {},
   "outputs": [
    {
     "name": "stdout",
     "output_type": "stream",
     "text": [
      "[1, 2, 3, 50, 78, 20]\n",
      "[1, 2, 56, 3, 50, 78, 20]\n"
     ]
    }
   ],
   "source": [
    "li=[1,2,3,50,78]\n",
    "li.append(20)\n",
    "print(li)\n",
    "li.insert(2,56)# insert at index\n",
    "print(li)"
   ]
  },
  {
   "cell_type": "code",
   "execution_count": 26,
   "metadata": {},
   "outputs": [
    {
     "name": "stdout",
     "output_type": "stream",
     "text": [
      "[1, 7, 8, 9, 23, 35, 74]\n",
      "[1, 7, 8, 9, 23, 35]\n",
      "[1, 8, 9, 23, 35]\n"
     ]
    }
   ],
   "source": [
    "li=[1,23,35,7,9,8,74]\n",
    "li.sort()\n",
    "print(li)\n",
    "li.pop()\n",
    "print(li)\n",
    "li.pop(1)\n",
    "print(li)\n",
    "\n"
   ]
  },
  {
   "cell_type": "code",
   "execution_count": 30,
   "metadata": {},
   "outputs": [
    {
     "name": "stdout",
     "output_type": "stream",
     "text": [
      "56\n",
      "27\n"
     ]
    }
   ],
   "source": [
    "# function to return large number from list\n",
    "def largenumber(li):\n",
    "    li.sort()\n",
    "    return li[-1]\n",
    "def genericlarge(li,n):\n",
    "    li.sort()\n",
    "    return li[-n]\n",
    "li=[19,20,34,56,8,9,27]\n",
    "print(largenumber(li))\n",
    "print(genericlarge(li,3))"
   ]
  },
  {
   "cell_type": "code",
   "execution_count": 33,
   "metadata": {},
   "outputs": [
    {
     "name": "stdout",
     "output_type": "stream",
     "text": [
      "8\n",
      "19\n"
     ]
    }
   ],
   "source": [
    "# function to return small number from list\n",
    "def smallnumber(li):\n",
    "    li.sort()\n",
    "    return li[0]\n",
    "def genericsmall(li,n):\n",
    "    li.sort()\n",
    "    return li[n]\n",
    "li=[19,20,34,56,8,9,27]\n",
    "print(smallnumber(li))\n",
    "print(genericsmall(li,2))"
   ]
  },
  {
   "cell_type": "markdown",
   "metadata": {},
   "source": [
    "# tuples\n",
    "- values seperated bt comma and closed by paranthesis()\n",
    "- values cannot be chnaged i.e immutable \n",
    "# difference b/w list nd tuples\n",
    "- list can be modified\n",
    "- list used to access means modify,add,del,update\n",
    "- tuple cannot be modified\n",
    "- used to access data only\n"
   ]
  },
  {
   "cell_type": "code",
   "execution_count": 35,
   "metadata": {},
   "outputs": [
    {
     "name": "stdout",
     "output_type": "stream",
     "text": [
      "(1, 2, 3, 4, 5)\n",
      "<class 'tuple'>\n"
     ]
    }
   ],
   "source": [
    "t1=(1,2,3,4,5)\n",
    "print(t1)\n",
    "print(type(t1))"
   ]
  },
  {
   "cell_type": "markdown",
   "metadata": {},
   "source": [
    "# Dictionaries:\n",
    "- works on concept of set unique data\n",
    "- dictionary contains keys and values \n",
    "- each key is seperated from its values with colon :\n",
    "- each key and values separated by comma ,\n",
    "- dic enclosed by {}"
   ]
  },
  {
   "cell_type": "code",
   "execution_count": 53,
   "metadata": {},
   "outputs": [
    {
     "name": "stdout",
     "output_type": "stream",
     "text": [
      "{1, 2, 3, 4, 5}\n",
      "<class 'set'>\n"
     ]
    }
   ],
   "source": [
    "d={1,2,2,3,4,5,5}\n",
    "print(d)\n",
    "print(type(d))"
   ]
  },
  {
   "cell_type": "code",
   "execution_count": 72,
   "metadata": {},
   "outputs": [
    {
     "name": "stdout",
     "output_type": "stream",
     "text": [
      "{'name': 'akhila', 'email': 'akhila@', 'college': 'gitam', 'address': 'hyderabad', 'age': '12'}\n",
      "<class 'dict'>\n"
     ]
    },
    {
     "data": {
      "text/plain": [
       "dict_keys(['email', 'college', 'address', 'age', 'course'])"
      ]
     },
     "execution_count": 72,
     "metadata": {},
     "output_type": "execute_result"
    }
   ],
   "source": [
    "d={\"name\":\"akhila\",\"name\":\"akhila\",\"email\":\"akhila@\",\"college\":\"gitam\",\"address\":\"hyderabad\" ,\"age\":\"12\"}\n",
    "print(d)\n",
    "print(type(d))\n",
    "del d[\"name\"]\n",
    "d\n",
    "d[\"age\"]=\"20\"\n",
    "d\n",
    "d[\"course\"]=\"python\"\n",
    "d\n",
    "\n"
   ]
  },
  {
   "cell_type": "code",
   "execution_count": 73,
   "metadata": {},
   "outputs": [
    {
     "data": {
      "text/plain": [
       "dict_keys(['email', 'college', 'address', 'age', 'course'])"
      ]
     },
     "execution_count": 73,
     "metadata": {},
     "output_type": "execute_result"
    }
   ],
   "source": [
    "d.keys()"
   ]
  },
  {
   "cell_type": "code",
   "execution_count": 74,
   "metadata": {},
   "outputs": [
    {
     "data": {
      "text/plain": [
       "dict_values(['akhila@', 'gitam', 'hyderabad', '20', 'python'])"
      ]
     },
     "execution_count": 74,
     "metadata": {},
     "output_type": "execute_result"
    }
   ],
   "source": [
    "d.values()"
   ]
  },
  {
   "cell_type": "code",
   "execution_count": 75,
   "metadata": {},
   "outputs": [
    {
     "data": {
      "text/plain": [
       "dict_items([('email', 'akhila@'), ('college', 'gitam'), ('address', 'hyderabad'), ('age', '20'), ('course', 'python')])"
      ]
     },
     "execution_count": 75,
     "metadata": {},
     "output_type": "execute_result"
    }
   ],
   "source": [
    "d.items()"
   ]
  },
  {
   "cell_type": "markdown",
   "metadata": {},
   "source": [
    "# Strings:\n"
   ]
  },
  {
   "cell_type": "code",
   "execution_count": 87,
   "metadata": {},
   "outputs": [
    {
     "name": "stdout",
     "output_type": "stream",
     "text": [
      "p\n",
      "nohtyp\n",
      "<class 'str'>\n"
     ]
    }
   ],
   "source": [
    "s='python'\n",
    "print(s[0])\n",
    "print(s[::-1])\n",
    "print(type(s))"
   ]
  },
  {
   "cell_type": "code",
   "execution_count": 83,
   "metadata": {},
   "outputs": [
    {
     "name": "stdout",
     "output_type": "stream",
     "text": [
      "123\n",
      "<class 'list'>\n"
     ]
    }
   ],
   "source": [
    "s=['123','ak','hyy']\n",
    "print(s[0])\n",
    "print(type(s))"
   ]
  },
  {
   "cell_type": "code",
   "execution_count": 90,
   "metadata": {},
   "outputs": [
    {
     "name": "stdout",
     "output_type": "stream",
     "text": [
      "h\n"
     ]
    }
   ],
   "source": [
    "print(s[len(s)//2])"
   ]
  },
  {
   "cell_type": "code",
   "execution_count": 95,
   "metadata": {},
   "outputs": [
    {
     "name": "stdout",
     "output_type": "stream",
     "text": [
      "pto\n",
      "ph\n",
      "po\n"
     ]
    }
   ],
   "source": [
    "print(s[0:6:2])\n",
    "print(s[0:6:3])\n",
    "print(s[0:6:4])"
   ]
  },
  {
   "cell_type": "code",
   "execution_count": 99,
   "metadata": {},
   "outputs": [
    {
     "name": "stdout",
     "output_type": "stream",
     "text": [
      "margorp\n"
     ]
    }
   ],
   "source": [
    "# using function reverse of  the string \n",
    "def reverseofstring(str):\n",
    "    print(str[::-1])\n",
    "\n",
    "    \n",
    "reverseofstring(\"program\")\n",
    "\n"
   ]
  },
  {
   "cell_type": "code",
   "execution_count": 5,
   "metadata": {},
   "outputs": [
    {
     "name": "stdout",
     "output_type": "stream",
     "text": [
      "False\n",
      "True\n"
     ]
    }
   ],
   "source": [
    "#palindrome\n",
    "\n",
    "def reverseofstring(str):\n",
    "    if str==str[::-1]:\n",
    "        return True\n",
    "    else:\n",
    "        return False\n",
    "\n",
    "print(reverseofstring(\"programming\"))\n",
    "print(reverseofstring(\"madam\"))\n"
   ]
  },
  {
   "cell_type": "markdown",
   "metadata": {},
   "source": [
    "# STRING BUILT IN FUNCTIONS\n",
    "- UPPER()\n",
    "- lower()\n",
    "- isupper()\n",
    "- islower()\n",
    "- istitle()\n",
    "- isnumeric()\n",
    "- isalpha()\n",
    "- isspace()"
   ]
  },
  {
   "cell_type": "code",
   "execution_count": 16,
   "metadata": {},
   "outputs": [
    {
     "name": "stdout",
     "output_type": "stream",
     "text": [
      "PYTHON \n",
      "python \n",
      "False\n",
      "True\n",
      "False\n",
      "False\n",
      "False\n",
      "False\n"
     ]
    }
   ],
   "source": [
    "s=\"python \"\n",
    "print(s.upper())\n",
    "print(s.lower())\n",
    "print(s.isupper())\n",
    "print(s.islower())\n",
    "print(s.istitle())\n",
    "print(s.isnumeric())\n",
    "print(s.isalpha())\n",
    "print(s.isspace())"
   ]
  },
  {
   "cell_type": "code",
   "execution_count": 17,
   "metadata": {},
   "outputs": [
    {
     "name": "stdout",
     "output_type": "stream",
     "text": [
      "True\n"
     ]
    }
   ],
   "source": [
    "s=\" \"\n",
    "print(s.isspace())"
   ]
  },
  {
   "cell_type": "markdown",
   "metadata": {},
   "source": [
    "# string methods\n",
    "- join()\n",
    "- split()\n",
    "- replace()\n"
   ]
  },
  {
   "cell_type": "code",
   "execution_count": 18,
   "metadata": {},
   "outputs": [
    {
     "name": "stdout",
     "output_type": "stream",
     "text": [
      "a_k_h_i_l_a\n"
     ]
    }
   ],
   "source": [
    "s1=\"akhila\"\n",
    "print(\"_\".join(s1))"
   ]
  },
  {
   "cell_type": "code",
   "execution_count": 46,
   "metadata": {},
   "outputs": [
    {
     "name": "stdout",
     "output_type": "stream",
     "text": [
      "['akhila is a good girl']\n"
     ]
    }
   ],
   "source": [
    "s1=\"akhila is a good girl\"\n",
    "\n",
    "print(s1.split(','))"
   ]
  },
  {
   "cell_type": "code",
   "execution_count": 23,
   "metadata": {},
   "outputs": [
    {
     "data": {
      "text/plain": [
       "['a',\n",
       " 'k',\n",
       " 'h',\n",
       " 'i',\n",
       " 'l',\n",
       " 'a',\n",
       " ' ',\n",
       " 'i',\n",
       " 's',\n",
       " ' ',\n",
       " 'a',\n",
       " ' ',\n",
       " 'g',\n",
       " 'o',\n",
       " 'o',\n",
       " 'd',\n",
       " ' ',\n",
       " 'g',\n",
       " 'i',\n",
       " 'r',\n",
       " 'l']"
      ]
     },
     "execution_count": 23,
     "metadata": {},
     "output_type": "execute_result"
    }
   ],
   "source": [
    "s1=\"akhila is a good girl\"\n",
    "li=list(s1)\n",
    "li"
   ]
  },
  {
   "cell_type": "code",
   "execution_count": 24,
   "metadata": {},
   "outputs": [
    {
     "name": "stdout",
     "output_type": "stream",
     "text": [
      "akhila is a very good girl\n"
     ]
    }
   ],
   "source": [
    "s1=\"akhila is a good girl\"\n",
    "print(s1.replace(\"good\",\"very good\"))"
   ]
  },
  {
   "cell_type": "code",
   "execution_count": 25,
   "metadata": {},
   "outputs": [
    {
     "data": {
      "text/plain": [
       "[80, 85, 90]"
      ]
     },
     "execution_count": 25,
     "metadata": {},
     "output_type": "execute_result"
    }
   ],
   "source": [
    "marks={'akhila':[80,85,90],'joey':[86,90,95]}\n",
    "marks[\"akhila\"]"
   ]
  },
  {
   "cell_type": "code",
   "execution_count": 35,
   "metadata": {},
   "outputs": [
    {
     "data": {
      "text/plain": [
       "85"
      ]
     },
     "execution_count": 35,
     "metadata": {},
     "output_type": "execute_result"
    }
   ],
   "source": [
    "li=marks[\"akhila\"]\n",
    "li[1]"
   ]
  },
  {
   "cell_type": "code",
   "execution_count": 36,
   "metadata": {},
   "outputs": [
    {
     "data": {
      "text/plain": [
       "86"
      ]
     },
     "execution_count": 36,
     "metadata": {},
     "output_type": "execute_result"
    }
   ],
   "source": [
    "li=marks[\"joey\"]\n",
    "li[0]"
   ]
  },
  {
   "cell_type": "code",
   "execution_count": 37,
   "metadata": {},
   "outputs": [
    {
     "data": {
      "text/plain": [
       "[95, 90, 86]"
      ]
     },
     "execution_count": 37,
     "metadata": {},
     "output_type": "execute_result"
    }
   ],
   "source": [
    "li=marks[\"joey\"]\n",
    "li[::-1]"
   ]
  },
  {
   "cell_type": "code",
   "execution_count": 42,
   "metadata": {},
   "outputs": [
    {
     "data": {
      "text/plain": [
       "2"
      ]
     },
     "execution_count": 42,
     "metadata": {},
     "output_type": "execute_result"
    }
   ],
   "source": [
    "marks={'peter':{'math':1,'english':2},'joe':[86,90,95]}\n",
    "li=marks[\"peter\"]\n",
    "li1=li[\"english\"]\n",
    "li1"
   ]
  },
  {
   "cell_type": "code",
   "execution_count": null,
   "metadata": {},
   "outputs": [],
   "source": []
  }
 ],
 "metadata": {
  "kernelspec": {
   "display_name": "Python 3",
   "language": "python",
   "name": "python3"
  },
  "language_info": {
   "codemirror_mode": {
    "name": "ipython",
    "version": 3
   },
   "file_extension": ".py",
   "mimetype": "text/x-python",
   "name": "python",
   "nbconvert_exporter": "python",
   "pygments_lexer": "ipython3",
   "version": "3.7.3"
  }
 },
 "nbformat": 4,
 "nbformat_minor": 2
}
