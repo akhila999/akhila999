{
 "cells": [
  {
   "cell_type": "code",
   "execution_count": 2,
   "metadata": {},
   "outputs": [
    {
     "name": "stdout",
     "output_type": "stream",
     "text": [
      "enter number5\n",
      "enter number6\n",
      "enter number3\n",
      "6 is large number\n"
     ]
    }
   ],
   "source": [
    "# find large number from given 3 numbers\n",
    "a=int(input(\"enter number\"))\n",
    "b=int(input(\"enter number\"))\n",
    "c=int(input(\"enter number\"))\n",
    "if a>b and b>c:\n",
    "    print(a,\"is large number\")\n",
    "elif b>a and b>c:\n",
    "    print(b,\"is large number\")\n",
    "else:\n",
    "     print(c,\"is large number\")"
   ]
  },
  {
   "cell_type": "markdown",
   "metadata": {},
   "source": [
    "# while statements:\n",
    "### Syntax:\n",
    "#### while boolean_condition:\n",
    "statements\n",
    "increment/decrement"
   ]
  },
  {
   "cell_type": "code",
   "execution_count": 3,
   "metadata": {},
   "outputs": [
    {
     "name": "stdout",
     "output_type": "stream",
     "text": [
      "gitam\n",
      "gitam\n",
      "gitam\n",
      "gitam\n",
      "gitam\n"
     ]
    }
   ],
   "source": [
    "x=0\n",
    "while x<5:\n",
    "    print(\"gitam\")\n",
    "    x=x+1\n",
    "    "
   ]
  },
  {
   "cell_type": "code",
   "execution_count": 1,
   "metadata": {},
   "outputs": [
    {
     "name": "stdout",
     "output_type": "stream",
     "text": [
      "enter a number10\n",
      "1 2 3 4 5 6 7 8 9 10 "
     ]
    }
   ],
   "source": [
    "# print n natural number using while loop\n",
    "# input:10\n",
    "# output:1 2 3 4 5 6 7 8 9 10\n",
    "n=int(input(\"enter a number\"))\n",
    "i=1\n",
    "while i<=n:\n",
    "    print(i,end=\" \")\n",
    "    i=i+1\n",
    "    \n"
   ]
  },
  {
   "cell_type": "code",
   "execution_count": 10,
   "metadata": {},
   "outputs": [
    {
     "name": "stdout",
     "output_type": "stream",
     "text": [
      "enter a numbers10\n",
      "30\n"
     ]
    }
   ],
   "source": [
    "# add only even number 1 to n\n",
    "# input:10\n",
    "# output:30(2+4+6+8+10)\n",
    "n = int(input(\"enter a numbers\"))\n",
    "i = 1\n",
    "sum = 0\n",
    "while i<= n:\n",
    "    if i % 2 == 0:\n",
    "        sum = sum + i\n",
    "    i = i + 1\n",
    "print(sum) "
   ]
  },
  {
   "cell_type": "code",
   "execution_count": 12,
   "metadata": {},
   "outputs": [
    {
     "name": "stdout",
     "output_type": "stream",
     "text": [
      "enter a number123\n",
      "3 2 1 "
     ]
    }
   ],
   "source": [
    "# input:1 2 3 \n",
    "# ouput:3 2 1\n",
    "n = int(input(\"enter a number\"))\n",
    "while n!=0:\n",
    "    r=n%10\n",
    "    print(r,end=\" \")\n",
    "    n=n//10"
   ]
  },
  {
   "cell_type": "markdown",
   "metadata": {},
   "source": [
    "# Functional programming\n",
    "- simple\n",
    "- easy read\n",
    "- lenghty prgram divides into subprograms\n",
    "## syntax: \n",
    "def name of the function() statement\n",
    "return"
   ]
  },
  {
   "cell_type": "code",
   "execution_count": 7,
   "metadata": {},
   "outputs": [
    {
     "data": {
      "text/plain": [
       "6"
      ]
     },
     "execution_count": 7,
     "metadata": {},
     "output_type": "execute_result"
    }
   ],
   "source": [
    "# input:1234\n",
    "# output:6(2+4)\n",
    "def addevendigit(n):\n",
    "    sum =0\n",
    "    while n!= 0:\n",
    "        r = n%10\n",
    "        if r %2==0:\n",
    "            sum = sum+r\n",
    "        n = n//10\n",
    "    return sum\n",
    "addevendigit(1234)"
   ]
  },
  {
   "cell_type": "code",
   "execution_count": 15,
   "metadata": {},
   "outputs": [
    {
     "data": {
      "text/plain": [
       "9"
      ]
     },
     "execution_count": 15,
     "metadata": {},
     "output_type": "execute_result"
    }
   ],
   "source": [
    "# read input\n",
    "# input:19528\n",
    "# outut:9\n",
    "def largestnumber(n):\n",
    "    l=0\n",
    "    while n!=0:\n",
    "        r =n%10\n",
    "        if r>1:\n",
    "            l=r\n",
    "        n=n//10\n",
    "    return l\n",
    "largestnumber(19528)\n",
    "    "
   ]
  },
  {
   "cell_type": "code",
   "execution_count": 24,
   "metadata": {},
   "outputs": [
    {
     "name": "stdout",
     "output_type": "stream",
     "text": [
      "3 2 1 "
     ]
    }
   ],
   "source": [
    "# input:123\n",
    "#output:321\n",
    "def reversenum(n):\n",
    "    while n!=0:\n",
    "        r=n%10\n",
    "        print(r,end=\" \")\n",
    "        n=n//10\n",
    "reversenum(123)\n",
    "    "
   ]
  },
  {
   "cell_type": "code",
   "execution_count": 35,
   "metadata": {},
   "outputs": [
    {
     "name": "stdout",
     "output_type": "stream",
     "text": [
      "no\n",
      "yes\n"
     ]
    }
   ],
   "source": [
    "# input:121---121----yes\n",
    "#       131---321----no\n",
    "def palindrome(n):\n",
    "    rev = 0\n",
    "    buffer = n\n",
    "    while n!=0:\n",
    "        r =n%10\n",
    "        rev =rev * 10 + r\n",
    "        n = n//10\n",
    "    if buffer == rev:\n",
    "        return \"yes\"\n",
    "    else:\n",
    "        return \"no\"\n",
    "print(palindrome(123))\n",
    "print(palindrome(121))"
   ]
  },
  {
   "cell_type": "code",
   "execution_count": 37,
   "metadata": {},
   "outputs": [
    {
     "name": "stdout",
     "output_type": "stream",
     "text": [
      "11 12 13 14 15 16 17 18 19 20 21 22 23 24 25 "
     ]
    }
   ],
   "source": [
    "# function to print n natural number\n",
    "def natural(l,b):\n",
    "    for i in range(l,b+1):\n",
    "        print(i,end=\" \")  \n",
    "natural(11,25)"
   ]
  },
  {
   "cell_type": "code",
   "execution_count": 40,
   "metadata": {},
   "outputs": [
    {
     "name": "stdout",
     "output_type": "stream",
     "text": [
      "1 5 9 "
     ]
    }
   ],
   "source": [
    "def natural(l,b):\n",
    "    for i in range(l,b+1,4):\n",
    "        print(i,end=\" \")\n",
    "natural(1,10)\n",
    "#output:1"
   ]
  },
  {
   "cell_type": "code",
   "execution_count": 42,
   "metadata": {},
   "outputs": [
    {
     "name": "stdout",
     "output_type": "stream",
     "text": [
      "1 2 3 4 5 6 7 8 9 10 "
     ]
    }
   ],
   "source": [
    "def natural(n):\n",
    "    for i in range(1,n+1):\n",
    "        print(i,end=\" \")  \n",
    "natural(10)"
   ]
  },
  {
   "cell_type": "code",
   "execution_count": 43,
   "metadata": {},
   "outputs": [
    {
     "name": "stdout",
     "output_type": "stream",
     "text": [
      "100 101 102 103 104 105 106 107 108 109 110 "
     ]
    }
   ],
   "source": [
    "def natural(n):\n",
    "    for i in range(100,n+1):\n",
    "        print(i,end=\" \")\n",
    "natural(110)"
   ]
  },
  {
   "cell_type": "code",
   "execution_count": 45,
   "metadata": {},
   "outputs": [
    {
     "name": "stdout",
     "output_type": "stream",
     "text": [
      "10 9 8 7 6 5 4 3 2 1 "
     ]
    }
   ],
   "source": [
    "# using function\n",
    "#input:1,10\n",
    "def reverserange(b,l):\n",
    "    for i in range(l,b-1,-1):\n",
    "        print(i,end=\" \")\n",
    "reverserange(1,10)\n",
    "# ouput:1098......1"
   ]
  },
  {
   "cell_type": "markdown",
   "metadata": {},
   "source": [
    "# data structure types\n",
    "- list\n",
    "- tuple\n",
    "- dictionary\n",
    "- sets"
   ]
  },
  {
   "cell_type": "markdown",
   "metadata": {},
   "source": [
    "# list:\n",
    "- its one common data structures in python,the items are separated by comma and enclosed by[]\n",
    "- crud operations\n",
    "* c-create\n",
    "* r-read\n",
    "* u-update\n",
    "* d-delete\n",
    "- list can be changed or immutable\n",
    "# example:\n",
    "- list =[1,2,3,4]\n"
   ]
  },
  {
   "cell_type": "code",
   "execution_count": 47,
   "metadata": {},
   "outputs": [
    {
     "name": "stdout",
     "output_type": "stream",
     "text": [
      "[1, 2, 3, 4]\n",
      "1\n",
      "4\n",
      "2\n"
     ]
    }
   ],
   "source": [
    "li = [1,2,3,4]\n",
    "print(li)\n",
    "print(li[0])\n",
    "print(li[-1])\n",
    "print(li[-3])"
   ]
  },
  {
   "cell_type": "code",
   "execution_count": null,
   "metadata": {},
   "outputs": [],
   "source": []
  },
  {
   "cell_type": "code",
   "execution_count": null,
   "metadata": {},
   "outputs": [],
   "source": []
  }
 ],
 "metadata": {
  "kernelspec": {
   "display_name": "Python 3",
   "language": "python",
   "name": "python3"
  },
  "language_info": {
   "codemirror_mode": {
    "name": "ipython",
    "version": 3
   },
   "file_extension": ".py",
   "mimetype": "text/x-python",
   "name": "python",
   "nbconvert_exporter": "python",
   "pygments_lexer": "ipython3",
   "version": "3.7.3"
  }
 },
 "nbformat": 4,
 "nbformat_minor": 2
}
